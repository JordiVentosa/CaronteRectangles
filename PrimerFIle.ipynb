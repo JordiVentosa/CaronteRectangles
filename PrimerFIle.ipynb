{
 "cells": [
  {
   "cell_type": "markdown",
   "metadata": {},
   "source": [
    "Per últim separem per les cuatre aules de les quals tenim a disposició notes d'exàmens, i esborrem del general les que no "
   ]
  },
  {
   "cell_type": "code",
   "execution_count": 49,
   "metadata": {},
   "outputs": [],
   "source": [
    "\n",
    "\n",
    "# Define the aula_id values to filter\n",
    "aula_ids = [87, 92, 143, 141]\n",
    "\n",
    "# Loop through each aula_id, filter, and save as a new CSV file\n",
    "for aula_id in aula_ids:\n",
    "    # Filter activitats for the current aula_id\n",
    "    filtered_df = activitats_filtered[activitats_filtered['aula_id'] == aula_id]\n",
    "    \n",
    "    # Save the filtered DataFrame to a CSV file\n",
    "    filtered_df.to_csv(f'activitats_aula_{aula_id}.csv', index=False)\n",
    "\n",
    "print(\"CSV files created for each specified aula_id.\")\n"
   ]
  },
  {
   "cell_type": "code",
   "execution_count": 45,
   "metadata": {},
   "outputs": [],
   "source": [
    "import pandas as pd\n",
    "import spark\n",
    "import tensorflow as tf\n",
    "from tensorflow.keras.models import Sequential\n",
    "from tensorflow.keras.layers import Dense\n",
    "from tensorflow.keras.optimizers import Adam\n",
    "import numpy as np\n"
   ]
  },
  {
   "cell_type": "code",
   "execution_count": 46,
   "metadata": {},
   "outputs": [
    {
     "name": "stdout",
     "output_type": "stream",
     "text": [
      "Index(['activitat_id', 'activitat', 'aula_id', 'startdate', 'duedate',\n",
      "       'grade'],\n",
      "      dtype='object')\n",
      "   activitat_id                                activitat  aula_id  startdate  \\\n",
      "0             3            Problema 1.1 - Hello world!!!       87          0   \n",
      "1             4         Problema 1.2 - Hello world!!! ++       87          0   \n",
      "2             5               Problema 3a.1: C�lcul edat       87          0   \n",
      "3             6  Problema 3a.8: Conversi� d�lars a euros       87          0   \n",
      "4             7         Problema 3a.11: Mitjana de notes       87          0   \n",
      "\n",
      "   duedate  grade  \n",
      "0        0    100  \n",
      "1        0    100  \n",
      "2        0    100  \n",
      "3        0    100  \n",
      "4        0    100  \n"
     ]
    }
   ],
   "source": [
    "#read the data\n",
    "\n",
    "activitats = pd.read_csv('data/activitats.csv')\n",
    "notes = pd.read_csv('data/notes.csv')\n",
    "trameses = pd.read_csv('data/trameses.csv')\n",
    "\n",
    "#show the columns\n",
    "\n",
    "print(activitats.columns)\n",
    "\n",
    "#show the first 5 rows\n",
    "\n",
    "print(activitats.head())\n",
    "\n"
   ]
  },
  {
   "cell_type": "markdown",
   "metadata": {},
   "source": [
    "Comencem treient totes les activitats que no tenen cap tramesa associada\n"
   ]
  },
  {
   "cell_type": "code",
   "execution_count": 47,
   "metadata": {},
   "outputs": [
    {
     "name": "stdout",
     "output_type": "stream",
     "text": [
      "   activitat_id                                activitat  aula_id  startdate  \\\n",
      "0             3            Problema 1.1 - Hello world!!!       87          0   \n",
      "1             4         Problema 1.2 - Hello world!!! ++       87          0   \n",
      "2             5               Problema 3a.1: C�lcul edat       87          0   \n",
      "3             6  Problema 3a.8: Conversi� d�lars a euros       87          0   \n",
      "4             7         Problema 3a.11: Mitjana de notes       87          0   \n",
      "\n",
      "   duedate  grade  \n",
      "0        0    100  \n",
      "1        0    100  \n",
      "2        0    100  \n",
      "3        0    100  \n",
      "4        0    100  \n"
     ]
    }
   ],
   "source": [
    "\n",
    "# Filter activitats to keep only entries with an activitat_id present in trameses\n",
    "activitats_filtered = activitats[activitats['activitat_id'].isin(trameses['activitat_id'].unique())]\n",
    "\n",
    "# Save or display the filtered activitats DataFrame\n",
    "activitats_filtered.to_csv('activitats_filtered.csv', index=False)\n",
    "print(activitats_filtered.head())\n"
   ]
  },
  {
   "cell_type": "markdown",
   "metadata": {},
   "source": [
    "A continuació afegim una clau shared_id que s'encarrega de relacionar tasques identiques que es troben a cursos diferents les que"
   ]
  },
  {
   "cell_type": "code",
   "execution_count": 48,
   "metadata": {},
   "outputs": [
    {
     "name": "stderr",
     "output_type": "stream",
     "text": [
      "/tmp/ipykernel_24364/3240484575.py:5: SettingWithCopyWarning: \n",
      "A value is trying to be set on a copy of a slice from a DataFrame.\n",
      "Try using .loc[row_indexer,col_indexer] = value instead\n",
      "\n",
      "See the caveats in the documentation: https://pandas.pydata.org/pandas-docs/stable/user_guide/indexing.html#returning-a-view-versus-a-copy\n",
      "  activitats_filtered['shared_id'] = activitats_filtered['activitat'].map(activitat_unique_id)\n"
     ]
    }
   ],
   "source": [
    "# Create a dictionary to map each unique activitat to a unique ID\n",
    "activitat_unique_id = {activitats_filtered: idx for idx, activitats_filtered in enumerate(activitats_filtered['activitat'].unique(), start=1)}\n",
    "\n",
    "# Map the activitat values to the unique IDs in the pastas column\n",
    "activitats_filtered['shared_id'] = activitats_filtered['activitat'].map(activitat_unique_id)\n",
    "\n",
    "# Save or display the updated activitats DataFrame\n",
    "activitats_filtered.to_csv('activitats_with_shared.csv', index=False)"
   ]
  }
 ],
 "metadata": {
  "kernelspec": {
   "display_name": "Rectangles_env",
   "language": "python",
   "name": "python3"
  },
  "language_info": {
   "codemirror_mode": {
    "name": "ipython",
    "version": 3
   },
   "file_extension": ".py",
   "mimetype": "text/x-python",
   "name": "python",
   "nbconvert_exporter": "python",
   "pygments_lexer": "ipython3",
   "version": "3.12.7"
  }
 },
 "nbformat": 4,
 "nbformat_minor": 2
}
